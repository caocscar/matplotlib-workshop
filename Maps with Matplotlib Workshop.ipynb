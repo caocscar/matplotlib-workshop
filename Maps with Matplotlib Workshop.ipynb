{
 "cells": [
  {
   "cell_type": "markdown",
   "metadata": {},
   "source": [
    "# Map-making with Python\n",
    "### By Maggie Orton and Alex Cao\n",
    "### April 19, 2017\n",
    "### <a href=\"http://cscar.research.umich.edu\">CSCAR</a> at The University of Michigan  \n",
    "\n",
    "Please fill out the workshop sign-in <a href=\"\">here</a>"
   ]
  },
  {
   "cell_type": "markdown",
   "metadata": {},
   "source": [
    "This workshop will cover how to make a few basic types of maps using matplotlib in Python. The types of maps covered are:\n",
    "1. Choropleth\n",
    "2. Dot map\n",
    "3. Proportional dot map\n",
    "4. Isopleth"
   ]
  },
  {
   "cell_type": "markdown",
   "metadata": {},
   "source": [
    "#### Note:  \n",
    "to install geopandas on a Mac with Anaconda:  \n",
    "$ conda install -c https://conda.anaconda.org/ioos geopandas"
   ]
  },
  {
   "cell_type": "code",
   "execution_count": 1,
   "metadata": {
    "collapsed": true
   },
   "outputs": [],
   "source": [
    "#% matplotlib inline"
   ]
  },
  {
   "cell_type": "markdown",
   "metadata": {},
   "source": [
    "# Choropleth"
   ]
  },
  {
   "cell_type": "markdown",
   "metadata": {},
   "source": [
    "Importing required modules and limiting pandas output to 12 rows:"
   ]
  },
  {
   "cell_type": "code",
   "execution_count": 2,
   "metadata": {
    "collapsed": false
   },
   "outputs": [],
   "source": [
    "import geopandas as gp\n",
    "import pandas as pd\n",
    "import time\n",
    "import requests\n",
    "import matplotlib.pyplot as plt\n",
    "import matplotlib.patches as mpatches\n",
    "from matplotlib.collections import PolyCollection\n",
    "\n",
    "pd.options.display.max_rows = 12"
   ]
  },
  {
   "cell_type": "markdown",
   "metadata": {
    "collapsed": true
   },
   "source": [
    "### Generating GeoDataFrame of MI counties"
   ]
  },
  {
   "cell_type": "code",
   "execution_count": 3,
   "metadata": {
    "collapsed": true
   },
   "outputs": [],
   "source": [
    "# Read GeoJSON from data portal and convert to GeoDataFrame\n",
    "R = requests.get(r'http://gis-michigan.opendata.arcgis.com/datasets/67a8ff23b5f54f15b7133b8c30981441_0.geojson')\n",
    "R.raise_for_status()\n",
    "response = R.json()\n",
    "counties = gp.GeoDataFrame.from_features(response['features'])\n",
    "# Drop unnecessary columns\n",
    "counties.drop(['ACRES','CNTY_CODE','FIPSCODE','LABEL','SQKM','ShapeSTArea','ShapeSTLength','TYPE','VER'], axis=1, inplace=True)\n",
    "# Find geographic center of counties\n",
    "counties['centroid'] = counties.geometry.apply(lambda x: x.centroid)"
   ]
  },
  {
   "cell_type": "markdown",
   "metadata": {},
   "source": [
    "### Loading choropleth snow crash data"
   ]
  },
  {
   "cell_type": "code",
   "execution_count": 4,
   "metadata": {
    "collapsed": false
   },
   "outputs": [
    {
     "data": {
      "text/html": [
       "<div>\n",
       "<table border=\"1\" class=\"dataframe\">\n",
       "  <thead>\n",
       "    <tr style=\"text-align: right;\">\n",
       "      <th></th>\n",
       "      <th>FIPSNUM</th>\n",
       "      <th>LAYOUT</th>\n",
       "      <th>NAME</th>\n",
       "      <th>OBJECTID</th>\n",
       "      <th>PENINSULA</th>\n",
       "      <th>SQMILES</th>\n",
       "      <th>geometry</th>\n",
       "      <th>centroid</th>\n",
       "      <th>snow_crashes</th>\n",
       "    </tr>\n",
       "  </thead>\n",
       "  <tbody>\n",
       "    <tr>\n",
       "      <th>0</th>\n",
       "      <td>1</td>\n",
       "      <td>landscape</td>\n",
       "      <td>Alcona</td>\n",
       "      <td>1</td>\n",
       "      <td>lower</td>\n",
       "      <td>694.424</td>\n",
       "      <td>POLYGON ((-83.88711741272411 44.55385437631399...</td>\n",
       "      <td>POINT (-83.5937944829822 44.68542260456106)</td>\n",
       "      <td>21</td>\n",
       "    </tr>\n",
       "    <tr>\n",
       "      <th>1</th>\n",
       "      <td>3</td>\n",
       "      <td>landscape</td>\n",
       "      <td>Alger</td>\n",
       "      <td>2</td>\n",
       "      <td>upper</td>\n",
       "      <td>936.247</td>\n",
       "      <td>(POLYGON ((-87.11602141361914 46.2772599477443...</td>\n",
       "      <td>POINT (-86.60393525888711 46.40859154770666)</td>\n",
       "      <td>37</td>\n",
       "    </tr>\n",
       "  </tbody>\n",
       "</table>\n",
       "</div>"
      ],
      "text/plain": [
       "   FIPSNUM     LAYOUT    NAME  OBJECTID PENINSULA  SQMILES  \\\n",
       "0        1  landscape  Alcona         1     lower  694.424   \n",
       "1        3  landscape   Alger         2     upper  936.247   \n",
       "\n",
       "                                            geometry  \\\n",
       "0  POLYGON ((-83.88711741272411 44.55385437631399...   \n",
       "1  (POLYGON ((-87.11602141361914 46.2772599477443...   \n",
       "\n",
       "                                       centroid  snow_crashes  \n",
       "0   POINT (-83.5937944829822 44.68542260456106)            21  \n",
       "1  POINT (-86.60393525888711 46.40859154770666)            37  "
      ]
     },
     "execution_count": 4,
     "metadata": {},
     "output_type": "execute_result"
    }
   ],
   "source": [
    "# Load choropleth data\n",
    "fatals = pd.read_csv('snow_crashes.csv', sep='\\t')\n",
    "fatals.set_index('County', inplace=True)\n",
    "# convert string to integers\n",
    "fatals = fatals.applymap(lambda x: int(str(x).replace(',','')))\n",
    "fatals['snow_crashes'] = fatals['Total']\n",
    "\n",
    "# merge snow crash data with geodataframe\n",
    "df = counties.merge(pd.DataFrame(fatals['snow_crashes']), how='inner', left_on='NAME', right_index=True)\n",
    "df.head(2)"
   ]
  },
  {
   "cell_type": "markdown",
   "metadata": {},
   "source": [
    "### Formatting colors and labels"
   ]
  },
  {
   "cell_type": "code",
   "execution_count": 5,
   "metadata": {
    "collapsed": false
   },
   "outputs": [],
   "source": [
    "# function assigns x a color based on minimums set in bins (inclusive)\n",
    "# requires: same number of bins and colors\n",
    "def assign_color(x, colors, bins):\n",
    "    bincount = len(bins)\n",
    "    counter = 1\n",
    "    while (counter < bincount):\n",
    "        if x >= bins[-counter]:\n",
    "            return colors[-counter]\n",
    "        counter = counter + 1\n",
    "    return colors[0]"
   ]
  },
  {
   "cell_type": "code",
   "execution_count": 6,
   "metadata": {
    "collapsed": false
   },
   "outputs": [
    {
     "data": {
      "text/plain": [
       "'blue'"
      ]
     },
     "execution_count": 6,
     "metadata": {},
     "output_type": "execute_result"
    }
   ],
   "source": [
    "# example: assigning '5' to blue in 5-9 bin\n",
    "assign_color(5, ['green', 'blue', 'red'], [0, 5, 10])"
   ]
  },
  {
   "cell_type": "code",
   "execution_count": 7,
   "metadata": {
    "collapsed": false
   },
   "outputs": [
    {
     "data": {
      "text/plain": [
       "['1 - 100', '101 - 200', '201 - 400', '401 - 800', '800+']"
      ]
     },
     "execution_count": 7,
     "metadata": {},
     "output_type": "execute_result"
    }
   ],
   "source": [
    "# setting up choropleth parameters\n",
    "colors = ['#edf8e9','#bae4b3','#74c476','#31a354','#006d2c']\n",
    "bins = [0,100,200,400,800]\n",
    "labels = []\n",
    "# formatting labels for bins\n",
    "for i in range(len(bins)):\n",
    "    if i < len(bins)-1:\n",
    "        label = '{} - {}'.format(bins[i]+1,bins[i+1])\n",
    "    else:\n",
    "        label = '{}+'.format(bins[i])\n",
    "    labels.append(label)\n",
    "labels"
   ]
  },
  {
   "cell_type": "code",
   "execution_count": 8,
   "metadata": {
    "collapsed": false
   },
   "outputs": [
    {
     "data": {
      "text/html": [
       "<div>\n",
       "<table border=\"1\" class=\"dataframe\">\n",
       "  <thead>\n",
       "    <tr style=\"text-align: right;\">\n",
       "      <th></th>\n",
       "      <th>snow_crashes</th>\n",
       "      <th>color</th>\n",
       "    </tr>\n",
       "  </thead>\n",
       "  <tbody>\n",
       "    <tr>\n",
       "      <th>0</th>\n",
       "      <td>21</td>\n",
       "      <td>#edf8e9</td>\n",
       "    </tr>\n",
       "    <tr>\n",
       "      <th>1</th>\n",
       "      <td>37</td>\n",
       "      <td>#edf8e9</td>\n",
       "    </tr>\n",
       "    <tr>\n",
       "      <th>2</th>\n",
       "      <td>429</td>\n",
       "      <td>#31a354</td>\n",
       "    </tr>\n",
       "    <tr>\n",
       "      <th>3</th>\n",
       "      <td>52</td>\n",
       "      <td>#edf8e9</td>\n",
       "    </tr>\n",
       "  </tbody>\n",
       "</table>\n",
       "</div>"
      ],
      "text/plain": [
       "   snow_crashes    color\n",
       "0            21  #edf8e9\n",
       "1            37  #edf8e9\n",
       "2           429  #31a354\n",
       "3            52  #edf8e9"
      ]
     },
     "execution_count": 8,
     "metadata": {},
     "output_type": "execute_result"
    }
   ],
   "source": [
    "df['color'] = df['snow_crashes'].apply(assign_color, args=(colors,bins))\n",
    "df[['snow_crashes', 'color']].head(4)"
   ]
  },
  {
   "cell_type": "markdown",
   "metadata": {},
   "source": [
    "### Plotting choropleth"
   ]
  },
  {
   "cell_type": "code",
   "execution_count": 9,
   "metadata": {
    "collapsed": false
   },
   "outputs": [],
   "source": [
    "inches = 12 # Approximately 1200 x 1200 pixels\n",
    "fig = plt.figure(2, figsize=(inches,inches), frameon=True)\n",
    "ax = plt.gca()\n",
    "# add blue for the great lakes (and land)\n",
    "fig.patch.set_facecolor('#9bbff4')"
   ]
  },
  {
   "cell_type": "code",
   "execution_count": 10,
   "metadata": {
    "collapsed": true
   },
   "outputs": [],
   "source": [
    "# create a nested list of polygons, vertices, and xy-coordinates \n",
    "mi = []\n",
    "for i in range(df.shape[0]):\n",
    "    geom = counties.at[i,'geometry']\n",
    "    if geom.geom_type == 'Polygon':\n",
    "        poly_xy = [list(n) for n in geom.exterior.coords]\n",
    "        mi.append(poly_xy)\n",
    "    elif geom.geom_type == 'MultiPolygon':\n",
    "        for poly in geom:\n",
    "            poly_xy = [list(n) for n in poly.exterior.coords]\n",
    "            mi.append(poly_xy)"
   ]
  },
  {
   "cell_type": "code",
   "execution_count": 11,
   "metadata": {
    "collapsed": false
   },
   "outputs": [],
   "source": [
    "# Make a polygon collection and plot it with colour column\n",
    "coll = PolyCollection(mi, facecolors=df['color'], edgecolors='white')\n",
    "ax.add_collection(coll)\n",
    "# this line is necessary for collection to prevent crashing\n",
    "ax.autoscale_view()"
   ]
  },
  {
   "cell_type": "code",
   "execution_count": 12,
   "metadata": {
    "collapsed": false
   },
   "outputs": [],
   "source": [
    "# Plot county text\n",
    "fs = 7\n",
    "for i in range(df.shape[0]):\n",
    "    xy = list(df.at[i,'centroid'].coords)[0]\n",
    "    xc = xy[0]\n",
    "    yc = xy[1]\n",
    "    name = df.at[i,'NAME']\n",
    "    plt.text(xc, yc, name, fontsize=fs, ha='center', weight='bold')        "
   ]
  },
  {
   "cell_type": "code",
   "execution_count": 13,
   "metadata": {
    "collapsed": false
   },
   "outputs": [
    {
     "data": {
      "text/plain": [
       "<matplotlib.legend.Legend at 0x11ee9f4e0>"
      ]
     },
     "execution_count": 13,
     "metadata": {},
     "output_type": "execute_result"
    }
   ],
   "source": [
    "# Draw legend\n",
    "alpha = .8\n",
    "swatches = []\n",
    "for color, label in zip(colors,labels):\n",
    "    swatches.append(mpatches.Patch(color=color, label=label, alpha=alpha))\n",
    "plt.legend(handles=swatches, bbox_to_anchor=(0.4,0.3), frameon=False)"
   ]
  },
  {
   "cell_type": "code",
   "execution_count": 14,
   "metadata": {
    "collapsed": false
   },
   "outputs": [
    {
     "data": {
      "text/plain": [
       "<matplotlib.text.Text at 0x119703940>"
      ]
     },
     "execution_count": 14,
     "metadata": {},
     "output_type": "execute_result"
    }
   ],
   "source": [
    "# Plot title\n",
    "plt.figtext(0.33,0.32, 'Vehicle Crashes\\nIn Snowy Conditions', fontsize=fs+3, weight='bold', ha='center', va='bottom')"
   ]
  },
  {
   "cell_type": "code",
   "execution_count": 15,
   "metadata": {
    "collapsed": false
   },
   "outputs": [
    {
     "name": "stderr",
     "output_type": "stream",
     "text": [
      "/Users/maggieorton/anaconda/lib/python3.5/site-packages/matplotlib/tight_layout.py:222: UserWarning: tight_layout : falling back to Agg renderer\n",
      "  warnings.warn(\"tight_layout : falling back to Agg renderer\")\n"
     ]
    }
   ],
   "source": [
    "# Format figure and save\n",
    "plt.axis('off')\n",
    "plt.tight_layout()\n",
    "fig.savefig(\"mi_choropleth.png\", facecolor=fig.get_facecolor(), bbox_inches='tight')\n",
    "plt.gcf().clear()"
   ]
  },
  {
   "cell_type": "markdown",
   "metadata": {},
   "source": [
    "# Dot Map"
   ]
  },
  {
   "cell_type": "markdown",
   "metadata": {},
   "source": [
    "### Creating new map to add dots to"
   ]
  },
  {
   "cell_type": "code",
   "execution_count": 81,
   "metadata": {
    "collapsed": true
   },
   "outputs": [],
   "source": [
    "fig2 = plt.figure(2, figsize=(inches,inches), frameon=True)\n",
    "ax2 = plt.gca()\n",
    "# add blue for the great lakes (and land)\n",
    "fig2.patch.set_facecolor('#9bbff4')"
   ]
  },
  {
   "cell_type": "code",
   "execution_count": 82,
   "metadata": {
    "collapsed": true
   },
   "outputs": [],
   "source": [
    "# Make a polygon collection and plot it\n",
    "coll = PolyCollection(mi, facecolors='#edf8e9', edgecolors='white')\n",
    "ax2.add_collection(coll)\n",
    "# this line is necessary for collection to prevent crashing\n",
    "ax2.autoscale_view()"
   ]
  },
  {
   "cell_type": "code",
   "execution_count": 83,
   "metadata": {
    "collapsed": false
   },
   "outputs": [
    {
     "data": {
      "text/plain": [
       "<matplotlib.text.Text at 0x11eedde48>"
      ]
     },
     "execution_count": 83,
     "metadata": {},
     "output_type": "execute_result"
    }
   ],
   "source": [
    "# Plot title\n",
    "plt.figtext(0.5,0.9, 'Snowmobile Crashes', fontsize=fs+20, weight='bold', ha='center', va='bottom')"
   ]
  },
  {
   "cell_type": "markdown",
   "metadata": {},
   "source": [
    "### Reading in snowmobile crash data"
   ]
  },
  {
   "cell_type": "code",
   "execution_count": 84,
   "metadata": {
    "collapsed": false
   },
   "outputs": [
    {
     "data": {
      "text/html": [
       "<div>\n",
       "<table border=\"1\" class=\"dataframe\">\n",
       "  <thead>\n",
       "    <tr style=\"text-align: right;\">\n",
       "      <th></th>\n",
       "      <th>Crash Longitude</th>\n",
       "      <th>Crash Latitude</th>\n",
       "    </tr>\n",
       "  </thead>\n",
       "  <tbody>\n",
       "    <tr>\n",
       "      <th>0</th>\n",
       "      <td>-85.800058</td>\n",
       "      <td>46.180844</td>\n",
       "    </tr>\n",
       "    <tr>\n",
       "      <th>1</th>\n",
       "      <td>-84.789822</td>\n",
       "      <td>45.440444</td>\n",
       "    </tr>\n",
       "    <tr>\n",
       "      <th>2</th>\n",
       "      <td>-86.740536</td>\n",
       "      <td>46.321993</td>\n",
       "    </tr>\n",
       "  </tbody>\n",
       "</table>\n",
       "</div>"
      ],
      "text/plain": [
       "   Crash Longitude  Crash Latitude\n",
       "0       -85.800058       46.180844\n",
       "1       -84.789822       45.440444\n",
       "2       -86.740536       46.321993"
      ]
     },
     "execution_count": 84,
     "metadata": {},
     "output_type": "execute_result"
    }
   ],
   "source": [
    "snowmobiles = pd.read_table(\"snowmobile_crashes.txt\", sep = \"\\t\", usecols = [\"Crash Longitude\", \"Crash Latitude\"])\n",
    "snowmobiles[:3]"
   ]
  },
  {
   "cell_type": "code",
   "execution_count": 85,
   "metadata": {
    "collapsed": false
   },
   "outputs": [
    {
     "data": {
      "text/html": [
       "<div>\n",
       "<table border=\"1\" class=\"dataframe\">\n",
       "  <thead>\n",
       "    <tr style=\"text-align: right;\">\n",
       "      <th></th>\n",
       "      <th>Crash Longitude</th>\n",
       "      <th>Crash Latitude</th>\n",
       "    </tr>\n",
       "  </thead>\n",
       "  <tbody>\n",
       "    <tr>\n",
       "      <th>0</th>\n",
       "      <td>-85.800058</td>\n",
       "      <td>46.180844</td>\n",
       "    </tr>\n",
       "    <tr>\n",
       "      <th>1</th>\n",
       "      <td>-84.789822</td>\n",
       "      <td>45.440444</td>\n",
       "    </tr>\n",
       "    <tr>\n",
       "      <th>2</th>\n",
       "      <td>-86.740536</td>\n",
       "      <td>46.321993</td>\n",
       "    </tr>\n",
       "    <tr>\n",
       "      <th>3</th>\n",
       "      <td>-85.860376</td>\n",
       "      <td>42.738967</td>\n",
       "    </tr>\n",
       "    <tr>\n",
       "      <th>4</th>\n",
       "      <td>-85.836189</td>\n",
       "      <td>44.772364</td>\n",
       "    </tr>\n",
       "    <tr>\n",
       "      <th>5</th>\n",
       "      <td>-85.483634</td>\n",
       "      <td>41.875492</td>\n",
       "    </tr>\n",
       "    <tr>\n",
       "      <th>...</th>\n",
       "      <td>...</td>\n",
       "      <td>...</td>\n",
       "    </tr>\n",
       "    <tr>\n",
       "      <th>113</th>\n",
       "      <td>-83.198362</td>\n",
       "      <td>42.392715</td>\n",
       "    </tr>\n",
       "    <tr>\n",
       "      <th>114</th>\n",
       "      <td>-83.202282</td>\n",
       "      <td>42.340796</td>\n",
       "    </tr>\n",
       "    <tr>\n",
       "      <th>115</th>\n",
       "      <td>-82.557579</td>\n",
       "      <td>42.948126</td>\n",
       "    </tr>\n",
       "    <tr>\n",
       "      <th>116</th>\n",
       "      <td>-85.771789</td>\n",
       "      <td>44.647472</td>\n",
       "    </tr>\n",
       "    <tr>\n",
       "      <th>117</th>\n",
       "      <td>-83.102913</td>\n",
       "      <td>42.296971</td>\n",
       "    </tr>\n",
       "    <tr>\n",
       "      <th>118</th>\n",
       "      <td>-88.784157</td>\n",
       "      <td>46.969458</td>\n",
       "    </tr>\n",
       "  </tbody>\n",
       "</table>\n",
       "<p>111 rows × 2 columns</p>\n",
       "</div>"
      ],
      "text/plain": [
       "     Crash Longitude  Crash Latitude\n",
       "0         -85.800058       46.180844\n",
       "1         -84.789822       45.440444\n",
       "2         -86.740536       46.321993\n",
       "3         -85.860376       42.738967\n",
       "4         -85.836189       44.772364\n",
       "5         -85.483634       41.875492\n",
       "..               ...             ...\n",
       "113       -83.198362       42.392715\n",
       "114       -83.202282       42.340796\n",
       "115       -82.557579       42.948126\n",
       "116       -85.771789       44.647472\n",
       "117       -83.102913       42.296971\n",
       "118       -88.784157       46.969458\n",
       "\n",
       "[111 rows x 2 columns]"
      ]
     },
     "execution_count": 85,
     "metadata": {},
     "output_type": "execute_result"
    }
   ],
   "source": [
    "snowmobiles.applymap(lambda x: float(str(x).replace(' ','')))\n",
    "# remove rows from df with long/lat = 0\n",
    "snowmobiles.drop(snowmobiles[snowmobiles['Crash Longitude'] == 0].index, inplace = True)\n",
    "snowmobiles"
   ]
  },
  {
   "cell_type": "markdown",
   "metadata": {},
   "source": [
    "### Plotting circles"
   ]
  },
  {
   "cell_type": "code",
   "execution_count": 86,
   "metadata": {
    "collapsed": false
   },
   "outputs": [],
   "source": [
    "#plt.plot(snowmobiles['Crash Longitude'], snowmobiles['Crash Latitude'], 'wo')\n",
    "for lat, lon, city in zip(snowmobiles['Crash Latitude'], snowmobiles['Crash Longitude']):\n",
    "    circ = plt.Circle((lon, lat), radius = .05, color = 'maroon', alpha = .6, fill = True) #, label = \"crash\")\n",
    "    ax2.add_artist(circ)"
   ]
  },
  {
   "cell_type": "code",
   "execution_count": 87,
   "metadata": {
    "collapsed": false
   },
   "outputs": [],
   "source": [
    "# Format figure and save\n",
    "plt.axis('off')\n",
    "plt.tight_layout()\n",
    "fig2.savefig(\"snowmobile_crashes.png\", facecolor=fig2.get_facecolor(), bbox_inches='tight')\n",
    "plt.gcf().clear()"
   ]
  },
  {
   "cell_type": "markdown",
   "metadata": {},
   "source": [
    "# Proportional Dot Map"
   ]
  },
  {
   "cell_type": "markdown",
   "metadata": {},
   "source": [
    "### Creating new map to add dots to"
   ]
  },
  {
   "cell_type": "code",
   "execution_count": 88,
   "metadata": {
    "collapsed": true
   },
   "outputs": [],
   "source": [
    "fig3 = plt.figure(2, figsize=(inches,inches), frameon=True)\n",
    "ax3 = plt.gca()\n",
    "# add blue for the great lakes (and land)\n",
    "fig3.patch.set_facecolor('#9bbff4')"
   ]
  },
  {
   "cell_type": "code",
   "execution_count": 89,
   "metadata": {
    "collapsed": true
   },
   "outputs": [],
   "source": [
    "# Make a polygon collection and plot it\n",
    "coll = PolyCollection(mi, facecolors='#edf8e9', edgecolors='white')\n",
    "ax3.add_collection(coll)\n",
    "# this line is necessary for collection to prevent crashing\n",
    "ax3.autoscale_view()"
   ]
  },
  {
   "cell_type": "code",
   "execution_count": 90,
   "metadata": {
    "collapsed": false
   },
   "outputs": [
    {
     "data": {
      "text/plain": [
       "<matplotlib.text.Text at 0x11ef2f198>"
      ]
     },
     "execution_count": 90,
     "metadata": {},
     "output_type": "execute_result"
    }
   ],
   "source": [
    "# Plot title\n",
    "plt.figtext(0.5, .9, 'Top 20 Deer Crashes', fontsize=fs+20, weight='bold', ha='center', va='bottom')"
   ]
  },
  {
   "cell_type": "markdown",
   "metadata": {},
   "source": [
    "### Reading in deer crash data"
   ]
  },
  {
   "cell_type": "code",
   "execution_count": 91,
   "metadata": {
    "collapsed": false
   },
   "outputs": [
    {
     "data": {
      "text/html": [
       "<div>\n",
       "<table border=\"1\" class=\"dataframe\">\n",
       "  <thead>\n",
       "    <tr style=\"text-align: right;\">\n",
       "      <th></th>\n",
       "      <th>city</th>\n",
       "      <th>Total</th>\n",
       "      <th>Lat</th>\n",
       "      <th>Lon</th>\n",
       "    </tr>\n",
       "  </thead>\n",
       "  <tbody>\n",
       "    <tr>\n",
       "      <th>19</th>\n",
       "      <td>Burton</td>\n",
       "      <td>40</td>\n",
       "      <td>42.999472</td>\n",
       "      <td>-83.616342</td>\n",
       "    </tr>\n",
       "    <tr>\n",
       "      <th>18</th>\n",
       "      <td>Norton Shores</td>\n",
       "      <td>41</td>\n",
       "      <td>43.168904</td>\n",
       "      <td>-86.263946</td>\n",
       "    </tr>\n",
       "    <tr>\n",
       "      <th>17</th>\n",
       "      <td>Sterling Heights</td>\n",
       "      <td>44</td>\n",
       "      <td>42.580312</td>\n",
       "      <td>-83.030203</td>\n",
       "    </tr>\n",
       "    <tr>\n",
       "      <th>16</th>\n",
       "      <td>Southfield</td>\n",
       "      <td>44</td>\n",
       "      <td>42.473369</td>\n",
       "      <td>-83.221873</td>\n",
       "    </tr>\n",
       "    <tr>\n",
       "      <th>15</th>\n",
       "      <td>Wyoming</td>\n",
       "      <td>46</td>\n",
       "      <td>42.913360</td>\n",
       "      <td>-85.705309</td>\n",
       "    </tr>\n",
       "    <tr>\n",
       "      <th>14</th>\n",
       "      <td>East Lansing</td>\n",
       "      <td>55</td>\n",
       "      <td>42.736979</td>\n",
       "      <td>-84.483865</td>\n",
       "    </tr>\n",
       "    <tr>\n",
       "      <th>...</th>\n",
       "      <td>...</td>\n",
       "      <td>...</td>\n",
       "      <td>...</td>\n",
       "      <td>...</td>\n",
       "    </tr>\n",
       "    <tr>\n",
       "      <th>5</th>\n",
       "      <td>Ann Arbor</td>\n",
       "      <td>90</td>\n",
       "      <td>42.280826</td>\n",
       "      <td>-83.743038</td>\n",
       "    </tr>\n",
       "    <tr>\n",
       "      <th>4</th>\n",
       "      <td>Farmington Hills</td>\n",
       "      <td>95</td>\n",
       "      <td>42.498994</td>\n",
       "      <td>-83.367717</td>\n",
       "    </tr>\n",
       "    <tr>\n",
       "      <th>3</th>\n",
       "      <td>Battle Creek</td>\n",
       "      <td>116</td>\n",
       "      <td>42.321152</td>\n",
       "      <td>-85.179714</td>\n",
       "    </tr>\n",
       "    <tr>\n",
       "      <th>2</th>\n",
       "      <td>Midland</td>\n",
       "      <td>137</td>\n",
       "      <td>43.615583</td>\n",
       "      <td>-84.247212</td>\n",
       "    </tr>\n",
       "    <tr>\n",
       "      <th>1</th>\n",
       "      <td>Rochester Hills</td>\n",
       "      <td>150</td>\n",
       "      <td>42.658366</td>\n",
       "      <td>-83.149932</td>\n",
       "    </tr>\n",
       "    <tr>\n",
       "      <th>0</th>\n",
       "      <td>Portage</td>\n",
       "      <td>191</td>\n",
       "      <td>42.201154</td>\n",
       "      <td>-85.580002</td>\n",
       "    </tr>\n",
       "  </tbody>\n",
       "</table>\n",
       "<p>20 rows × 4 columns</p>\n",
       "</div>"
      ],
      "text/plain": [
       "                city  Total        Lat        Lon\n",
       "19            Burton     40  42.999472 -83.616342\n",
       "18     Norton Shores     41  43.168904 -86.263946\n",
       "17  Sterling Heights     44  42.580312 -83.030203\n",
       "16        Southfield     44  42.473369 -83.221873\n",
       "15           Wyoming     46  42.913360 -85.705309\n",
       "14      East Lansing     55  42.736979 -84.483865\n",
       "..               ...    ...        ...        ...\n",
       "5          Ann Arbor     90  42.280826 -83.743038\n",
       "4   Farmington Hills     95  42.498994 -83.367717\n",
       "3       Battle Creek    116  42.321152 -85.179714\n",
       "2            Midland    137  43.615583 -84.247212\n",
       "1    Rochester Hills    150  42.658366 -83.149932\n",
       "0            Portage    191  42.201154 -85.580002\n",
       "\n",
       "[20 rows x 4 columns]"
      ]
     },
     "execution_count": 91,
     "metadata": {},
     "output_type": "execute_result"
    }
   ],
   "source": [
    "deer = pd.read_csv(\"deer_in_the_city.txt\", usecols = [\"city\", \"Total\",\"Lat\",\"Lon\"]).sort_values(by = [\"Total\"])\n",
    "# take top 20\n",
    "deer = deer[-20:]\n",
    "deer"
   ]
  },
  {
   "cell_type": "code",
   "execution_count": 92,
   "metadata": {
    "collapsed": false
   },
   "outputs": [],
   "source": [
    "deer[\"Total\"] = pd.to_numeric(deer[\"Total\"])"
   ]
  },
  {
   "cell_type": "markdown",
   "metadata": {},
   "source": [
    "### Plotting circles"
   ]
  },
  {
   "cell_type": "code",
   "execution_count": 93,
   "metadata": {
    "collapsed": false
   },
   "outputs": [],
   "source": [
    "#plt.plot(deer['Longitude'], deer['Latitude'], 'wo')\n",
    "for lat, lon, num in zip(deer['Lat'], deer['Lon'], deer['Total']):\n",
    "    circ = plt.Circle((lon, lat), radius = num / 500, color = 'maroon', alpha = .6, fill = True)\n",
    "    ax3.add_artist(circ)"
   ]
  },
  {
   "cell_type": "code",
   "execution_count": 94,
   "metadata": {
    "collapsed": false
   },
   "outputs": [],
   "source": [
    "# Format figure and save\n",
    "plt.axis('off')\n",
    "plt.tight_layout()\n",
    "fig3.savefig(\"top_20_crashes.png\", facecolor=fig2.get_facecolor(), bbox_inches='tight')\n",
    "plt.gcf().clear()"
   ]
  },
  {
   "cell_type": "markdown",
   "metadata": {},
   "source": [
    "# Isopleth"
   ]
  },
  {
   "cell_type": "code",
   "execution_count": 30,
   "metadata": {
    "collapsed": false
   },
   "outputs": [
    {
     "name": "stdout",
     "output_type": "stream",
     "text": [
      "[[ 46.6  46.5  46.6 ...,  42.9  43.   43.1]\n",
      " [ 46.6  46.5  46.6 ...,  42.9  43.   43.1]\n",
      " [ 46.6  46.5  46.6 ...,  42.9  43.   43.1]\n",
      " ..., \n",
      " [ 46.6  46.5  46.6 ...,  42.9  43.   43.1]\n",
      " [ 46.6  46.5  46.6 ...,  42.9  43.   43.1]\n",
      " [ 46.6  46.5  46.6 ...,  42.9  43.   43.1]]\n",
      "[[-90.3 -90.3 -90.3 ..., -90.3 -90.3 -90.3]\n",
      " [-90.2 -90.2 -90.2 ..., -90.2 -90.2 -90.2]\n",
      " [-90.2 -90.2 -90.2 ..., -90.2 -90.2 -90.2]\n",
      " ..., \n",
      " [-82.5 -82.5 -82.5 ..., -82.5 -82.5 -82.5]\n",
      " [-82.5 -82.5 -82.5 ..., -82.5 -82.5 -82.5]\n",
      " [-82.5 -82.5 -82.5 ..., -82.5 -82.5 -82.5]]\n",
      "0       28.55\n",
      "1       28.45\n",
      "2       28.26\n",
      "3       29.20\n",
      "4       28.22\n",
      "5       28.46\n",
      "        ...  \n",
      "1700    44.72\n",
      "1701    50.80\n",
      "1702    50.34\n",
      "1703    50.02\n",
      "1704    49.91\n",
      "1705    49.47\n",
      "Name: maxTemp, dtype: float64\n"
     ]
    },
    {
     "data": {
      "text/plain": [
       "'\\n# Create a simple contour plot with labels using default colors.  The\\n# inline argument to clabel will control whether the labels are draw\\n# over the line segments of the contour, removing the lines beneath\\n# the label\\nfig4 = plt.figure()\\nCS = plt.contour(X, Y, Z)\\nplt.clabel(CS, inline=1, fontsize=10)\\nplt.title(\\'Simplest default with labels\\')\\nfig4.savefig(\"contour.png\")\\n'"
      ]
     },
     "execution_count": 30,
     "metadata": {},
     "output_type": "execute_result"
    }
   ],
   "source": [
    "import matplotlib\n",
    "import numpy as np\n",
    "import matplotlib.cm as cm\n",
    "import matplotlib.mlab as mlab\n",
    "import matplotlib.pyplot as plt\n",
    "\n",
    "matplotlib.rcParams['xtick.direction'] = 'out'\n",
    "matplotlib.rcParams['ytick.direction'] = 'out'\n",
    "\n",
    "temps = pd.read_csv(\"mi_temperature.txt\", usecols = [\"latitude\", \"longitude\", \"maxTemp\"])\n",
    "X, Y = np.meshgrid(temps[\"latitude\"], temps[\"longitude\"])\n",
    "Z = temps[\"maxTemp\"]\n",
    "#fig4 = plt.figure()\n",
    "print(X)\n",
    "print(Y)\n",
    "print(Z)\n",
    "\"\"\"\n",
    "CS = plt.contour(X, Y, Z)\n",
    "plt.clabel(CS, inline = 1, fontsize = 10)\n",
    "plt.axis('off')\n",
    "plt.tight_layout()\n",
    "plt.title('Isopleth')\n",
    "fig4.savefig(\"isopleth.png\")\n",
    "\"\"\"\n",
    "\n",
    "\n",
    "\"\"\"\n",
    "# Create a simple contour plot with labels using default colors.  The\n",
    "# inline argument to clabel will control whether the labels are draw\n",
    "# over the line segments of the contour, removing the lines beneath\n",
    "# the label\n",
    "fig4 = plt.figure()\n",
    "CS = plt.contour(X, Y, Z)\n",
    "plt.clabel(CS, inline=1, fontsize=10)\n",
    "plt.title('Simplest default with labels')\n",
    "fig4.savefig(\"contour.png\")\n",
    "\"\"\""
   ]
  },
  {
   "cell_type": "code",
   "execution_count": 31,
   "metadata": {
    "collapsed": false
   },
   "outputs": [
    {
     "name": "stdout",
     "output_type": "stream",
     "text": [
      "[[ 0.  0.  0. ...,  0.  0.  0.]\n",
      " [ 0.  0.  0. ...,  0.  0.  0.]\n",
      " [ 0.  0.  0. ...,  0.  0.  0.]\n",
      " ..., \n",
      " [ 0.  0.  0. ...,  0.  0.  0.]\n",
      " [ 0.  0.  0. ...,  0.  0.  0.]\n",
      " [ 0.  0.  0. ...,  0.  0.  0.]]\n",
      "[[ 0.  0.  0. ...,  0.  0.  0.]\n",
      " [ 0.  0.  0. ...,  0.  0.  0.]\n",
      " [ 0.  0.  0. ...,  0.  0.  0.]\n",
      " ..., \n",
      " [ 0.  0.  0. ...,  0.  0.  0.]\n",
      " [ 0.  0.  0. ...,  0.  0.  0.]\n",
      " [ 0.  0.  0. ...,  0.  0.  0.]]\n",
      "[[ 0.  0.  0. ...,  0.  0.  0.]\n",
      " [ 0.  0.  0. ...,  0.  0.  0.]\n",
      " [ 0.  0.  0. ...,  0.  0.  0.]\n",
      " ..., \n",
      " [ 0.  0.  0. ...,  0.  0.  0.]\n",
      " [ 0.  0.  0. ...,  0.  0.  0.]\n",
      " [ 0.  0.  0. ...,  0.  0.  0.]]\n"
     ]
    }
   ],
   "source": [
    "Z1 = mlab.bivariate_normal(X, Y, 1.0, 1.0, 0.0, 0.0)\n",
    "Z2 = mlab.bivariate_normal(X, Y, 1.5, 0.5, 1, 1)\n",
    "# difference of Gaussians\n",
    "Z = 10.0 * (Z2 - Z1)\n",
    "print(Z1)\n",
    "print(Z2)\n",
    "print(Z)"
   ]
  },
  {
   "cell_type": "code",
   "execution_count": null,
   "metadata": {
    "collapsed": true
   },
   "outputs": [],
   "source": []
  }
 ],
 "metadata": {
  "anaconda-cloud": {},
  "kernelspec": {
   "display_name": "Python [Root]",
   "language": "python",
   "name": "Python [Root]"
  },
  "language_info": {
   "codemirror_mode": {
    "name": "ipython",
    "version": 3
   },
   "file_extension": ".py",
   "mimetype": "text/x-python",
   "name": "python",
   "nbconvert_exporter": "python",
   "pygments_lexer": "ipython3",
   "version": "3.5.2"
  }
 },
 "nbformat": 4,
 "nbformat_minor": 0
}
