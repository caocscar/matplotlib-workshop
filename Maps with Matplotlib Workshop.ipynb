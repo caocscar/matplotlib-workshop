{
 "cells": [
  {
   "cell_type": "markdown",
   "metadata": {},
   "source": [
    "# Map-making with Python\n",
    "### By Maggie Orton and Alex Cao\n",
    "### April 19, 2017\n",
    "### <a href=\"http://cscar.research.umich.edu\">CSCAR</a> at The University of Michigan  \n",
    "\n",
    "Please fill out the workshop sign-in <a href=\"https://goo.gl/forms/kLpPDHKlwZIV5ZpD2\">here</a>"
   ]
  },
  {
   "cell_type": "markdown",
   "metadata": {},
   "source": [
    "This workshop will cover how to make a few basic types of maps using matplotlib in Python. The types of maps covered are:\n",
    "1. Choropleth\n",
    "2. Dot map\n",
    "3. Proportional dot map\n",
    "4. Isopleth"
   ]
  },
  {
   "cell_type": "markdown",
   "metadata": {},
   "source": [
    "#### Note:  \n",
    "to install geopandas on a Mac with Anaconda:  \n",
    "$ conda install -c https://conda.anaconda.org/ioos geopandas"
   ]
  },
  {
   "cell_type": "code",
   "execution_count": 1,
   "metadata": {
    "collapsed": true
   },
   "outputs": [],
   "source": [
    "#% matplotlib inline"
   ]
  },
  {
   "cell_type": "markdown",
   "metadata": {},
   "source": [
    "# Choropleth"
   ]
  },
  {
   "cell_type": "markdown",
   "metadata": {},
   "source": [
    "Importing required modules and limiting pandas output to 12 rows:"
   ]
  },
  {
   "cell_type": "code",
   "execution_count": 2,
   "metadata": {
    "collapsed": false
   },
   "outputs": [],
   "source": [
    "import pandas as pd\n",
    "import time\n",
    "import requests\n",
    "import matplotlib.pyplot as plt\n",
    "import matplotlib.patches as mpatches\n",
    "from matplotlib.collections import PolyCollection\n",
    "import matplotlib.cm as cm\n",
    "import matplotlib.mlab as mlab\n",
    "import numpy as np\n",
    "from itertools import chain\n",
    "\n",
    "pd.options.display.max_rows = 12"
   ]
  },
  {
   "cell_type": "markdown",
   "metadata": {
    "collapsed": true
   },
   "source": [
    "### Generating GeoDataFrame of MI counties"
   ]
  },
  {
   "cell_type": "code",
   "execution_count": 3,
   "metadata": {
    "collapsed": false
   },
   "outputs": [],
   "source": [
    "# Read GeoJSON from data portal and convert to a dataframe\n",
    "R = requests.get(r'http://gis-michigan.opendata.arcgis.com/datasets/67a8ff23b5f54f15b7133b8c30981441_0.geojson')\n",
    "R.raise_for_status()\n",
    "county_geojson= R.json()\n",
    "\n",
    "list_counties = []\n",
    "for county in county_geojson['features']:\n",
    "    fips = county['properties']['FIPSNUM']\n",
    "    name = county['properties']['NAME']\n",
    "    geomtype = county['geometry']['type']\n",
    "    coords = county['geometry']['coordinates']\n",
    "    list_counties.append((fips,name,geomtype,coords))\n",
    "\n",
    "counties = pd.DataFrame(list_counties, columns=['fips','NAME','geomtype','coords'])"
   ]
  },
  {
   "cell_type": "markdown",
   "metadata": {},
   "source": [
    "### Loading choropleth snow crash data"
   ]
  },
  {
   "cell_type": "code",
   "execution_count": 4,
   "metadata": {
    "collapsed": false
   },
   "outputs": [
    {
     "data": {
      "text/html": [
       "<div>\n",
       "<table border=\"1\" class=\"dataframe\">\n",
       "  <thead>\n",
       "    <tr style=\"text-align: right;\">\n",
       "      <th></th>\n",
       "      <th>fips</th>\n",
       "      <th>NAME</th>\n",
       "      <th>geomtype</th>\n",
       "      <th>coords</th>\n",
       "      <th>snow_crashes</th>\n",
       "    </tr>\n",
       "  </thead>\n",
       "  <tbody>\n",
       "    <tr>\n",
       "      <th>0</th>\n",
       "      <td>1</td>\n",
       "      <td>Alcona</td>\n",
       "      <td>Polygon</td>\n",
       "      <td>[[[-83.88711741272411, 44.553854376313986], [-...</td>\n",
       "      <td>21</td>\n",
       "    </tr>\n",
       "    <tr>\n",
       "      <th>1</th>\n",
       "      <td>3</td>\n",
       "      <td>Alger</td>\n",
       "      <td>MultiPolygon</td>\n",
       "      <td>[[[[-87.11602141361914, 46.27725994774438], [-...</td>\n",
       "      <td>37</td>\n",
       "    </tr>\n",
       "  </tbody>\n",
       "</table>\n",
       "</div>"
      ],
      "text/plain": [
       "   fips    NAME      geomtype  \\\n",
       "0     1  Alcona       Polygon   \n",
       "1     3   Alger  MultiPolygon   \n",
       "\n",
       "                                              coords  snow_crashes  \n",
       "0  [[[-83.88711741272411, 44.553854376313986], [-...            21  \n",
       "1  [[[[-87.11602141361914, 46.27725994774438], [-...            37  "
      ]
     },
     "execution_count": 4,
     "metadata": {},
     "output_type": "execute_result"
    }
   ],
   "source": [
    "# Load choropleth data\n",
    "fatals = pd.read_csv('snow_crashes.csv', sep='\\t')\n",
    "fatals.set_index('County', inplace=True)\n",
    "# convert string to integers\n",
    "fatals = fatals.applymap(lambda x: int(str(x).replace(',','')))\n",
    "fatals['snow_crashes'] = fatals['Total']\n",
    "\n",
    "# merge snow crash data with geodataframe\n",
    "df = counties.merge(pd.DataFrame(fatals['snow_crashes']), how='inner', left_on='NAME', right_index=True)\n",
    "df.head(2)"
   ]
  },
  {
   "cell_type": "markdown",
   "metadata": {},
   "source": [
    "### Formatting colors and labels"
   ]
  },
  {
   "cell_type": "code",
   "execution_count": 5,
   "metadata": {
    "collapsed": false
   },
   "outputs": [],
   "source": [
    "# function assigns x a color based on minimums set in bins (inclusive)\n",
    "# requires: same number of bins and colors\n",
    "def assign_color(x, colors, bins):\n",
    "    bincount = len(bins)\n",
    "    counter = 1\n",
    "    while (counter < bincount):\n",
    "        if x >= bins[-counter]:\n",
    "            return colors[-counter]\n",
    "        counter = counter + 1\n",
    "    return colors[0]"
   ]
  },
  {
   "cell_type": "code",
   "execution_count": 6,
   "metadata": {
    "collapsed": false
   },
   "outputs": [
    {
     "data": {
      "text/plain": [
       "'blue'"
      ]
     },
     "execution_count": 6,
     "metadata": {},
     "output_type": "execute_result"
    }
   ],
   "source": [
    "# example usage of assign_color: assigning value '5' to blue in 5-9 bin\n",
    "x = 5\n",
    "assign_color(x, ['green', 'blue', 'red'], [0, 5, 10])"
   ]
  },
  {
   "cell_type": "code",
   "execution_count": 7,
   "metadata": {
    "collapsed": false
   },
   "outputs": [
    {
     "data": {
      "text/plain": [
       "['1 - 100', '101 - 200', '201 - 400', '401 - 800', '800+']"
      ]
     },
     "execution_count": 7,
     "metadata": {},
     "output_type": "execute_result"
    }
   ],
   "source": [
    "# setting up choropleth parameters\n",
    "colors = ['#edf8e9','#bae4b3','#74c476','#31a354','#006d2c']\n",
    "bins = [0,100,200,400,800]\n",
    "labels = []\n",
    "# formatting labels for bins\n",
    "for i in range(len(bins)):\n",
    "    if i < len(bins)-1:\n",
    "        label = '{} - {}'.format(bins[i]+1,bins[i+1])\n",
    "    else:\n",
    "        label = '{}+'.format(bins[i])\n",
    "    labels.append(label)\n",
    "labels"
   ]
  },
  {
   "cell_type": "code",
   "execution_count": 8,
   "metadata": {
    "collapsed": false
   },
   "outputs": [
    {
     "data": {
      "text/html": [
       "<div>\n",
       "<table border=\"1\" class=\"dataframe\">\n",
       "  <thead>\n",
       "    <tr style=\"text-align: right;\">\n",
       "      <th></th>\n",
       "      <th>NAME</th>\n",
       "      <th>snow_crashes</th>\n",
       "      <th>color</th>\n",
       "    </tr>\n",
       "  </thead>\n",
       "  <tbody>\n",
       "    <tr>\n",
       "      <th>0</th>\n",
       "      <td>Alcona</td>\n",
       "      <td>21</td>\n",
       "      <td>#edf8e9</td>\n",
       "    </tr>\n",
       "    <tr>\n",
       "      <th>1</th>\n",
       "      <td>Alger</td>\n",
       "      <td>37</td>\n",
       "      <td>#edf8e9</td>\n",
       "    </tr>\n",
       "    <tr>\n",
       "      <th>2</th>\n",
       "      <td>Allegan</td>\n",
       "      <td>429</td>\n",
       "      <td>#31a354</td>\n",
       "    </tr>\n",
       "    <tr>\n",
       "      <th>3</th>\n",
       "      <td>Alpena</td>\n",
       "      <td>52</td>\n",
       "      <td>#edf8e9</td>\n",
       "    </tr>\n",
       "  </tbody>\n",
       "</table>\n",
       "</div>"
      ],
      "text/plain": [
       "      NAME  snow_crashes    color\n",
       "0   Alcona            21  #edf8e9\n",
       "1    Alger            37  #edf8e9\n",
       "2  Allegan           429  #31a354\n",
       "3   Alpena            52  #edf8e9"
      ]
     },
     "execution_count": 8,
     "metadata": {},
     "output_type": "execute_result"
    }
   ],
   "source": [
    "df['color'] = df['snow_crashes'].apply(assign_color, args=(colors,bins))\n",
    "df[['NAME', 'snow_crashes', 'color']].head(4)"
   ]
  },
  {
   "cell_type": "markdown",
   "metadata": {},
   "source": [
    "### Plotting choropleth"
   ]
  },
  {
   "cell_type": "code",
   "execution_count": 9,
   "metadata": {
    "collapsed": false
   },
   "outputs": [],
   "source": [
    "inches = 12 # Approximately 1200 x 1200 pixels\n",
    "fig = plt.figure(2, figsize=(inches,inches), frameon=True)\n",
    "ax = plt.gca()\n",
    "# add blue for the great lakes (and land)\n",
    "fig.patch.set_facecolor('#9bbff4')"
   ]
  },
  {
   "cell_type": "code",
   "execution_count": 10,
   "metadata": {
    "collapsed": false
   },
   "outputs": [],
   "source": [
    "# create a nested list of polygons, vertices, and xy-coordinates \n",
    "mi = []\n",
    "for i in range(df.shape[0]):\n",
    "    geom_type = df.at[i,'geomtype']\n",
    "    poly_xy = df.at[i,'coords']\n",
    "    if geom_type == 'Polygon':\n",
    "        mi.append(poly_xy[0])\n",
    "    elif geom_type == 'MultiPolygon':\n",
    "        for poly in poly_xy:\n",
    "            mi.append(poly[0])"
   ]
  },
  {
   "cell_type": "code",
   "execution_count": 11,
   "metadata": {
    "collapsed": false
   },
   "outputs": [],
   "source": [
    "# Make a polygon collection and plot it with colour column\n",
    "coll = PolyCollection(mi, facecolors=df['color'], edgecolors='white')\n",
    "ax.add_collection(coll)\n",
    "# this line is necessary for collection to prevent crashing\n",
    "ax.autoscale_view()"
   ]
  },
  {
   "cell_type": "code",
   "execution_count": 12,
   "metadata": {
    "collapsed": false
   },
   "outputs": [],
   "source": [
    "#%% Calculate Approximate Centre\n",
    "xyc = []\n",
    "for i in range(df.shape[0]):\n",
    "    geom_type = df.at[i,'geomtype']\n",
    "    poly_xy = df.at[i,'coords']\n",
    "    if geom_type == 'Polygon':\n",
    "        X,Y = zip(*poly_xy[0])\n",
    "    elif geom_type == 'MultiPolygon':\n",
    "        listx, listy = [],[]\n",
    "        for poly in poly_xy:\n",
    "            x,y = zip(*poly[0])\n",
    "            listx.append(x)\n",
    "            listy.append(y)\n",
    "        X = list(chain.from_iterable(listx))\n",
    "        Y = list(chain.from_iterable(listy))\n",
    "    dfX = pd.Series(X)\n",
    "    dfY = pd.Series(Y)\n",
    "    xc = 0.5*(dfX.max()+dfX.min())\n",
    "    yc = 0.5*(dfY.max()+dfY.min())\n",
    "    xyc.append([xc,yc])        \n",
    "centroid = pd.Series(xyc)\n",
    "df['centroid'] = centroid"
   ]
  },
  {
   "cell_type": "code",
   "execution_count": 13,
   "metadata": {
    "collapsed": false
   },
   "outputs": [],
   "source": [
    "# Plot county text\n",
    "fs = 7\n",
    "for i in range(df.shape[0]):\n",
    "    xy = df.at[i,'centroid']\n",
    "    xc = xy[0]\n",
    "    yc = xy[1]\n",
    "    name = df.at[i,'NAME']\n",
    "    # xc, yc are in same units as axis (lat/long coords)\n",
    "    plt.text(xc, yc, name, fontsize=fs, ha='center', weight='bold')        "
   ]
  },
  {
   "cell_type": "code",
   "execution_count": 14,
   "metadata": {
    "collapsed": false
   },
   "outputs": [
    {
     "data": {
      "text/plain": [
       "<matplotlib.legend.Legend at 0x1168bf4a8>"
      ]
     },
     "execution_count": 14,
     "metadata": {},
     "output_type": "execute_result"
    }
   ],
   "source": [
    "# Draw legend\n",
    "alpha = .8\n",
    "swatches = []\n",
    "for color, label in zip(colors,labels):\n",
    "    swatches.append(mpatches.Patch(color=color, label=label, alpha=alpha))\n",
    "plt.legend(handles=swatches, bbox_to_anchor=(0.4,0.3), frameon=False)"
   ]
  },
  {
   "cell_type": "code",
   "execution_count": 15,
   "metadata": {
    "collapsed": false
   },
   "outputs": [
    {
     "data": {
      "text/plain": [
       "<matplotlib.text.Text at 0x1168bf748>"
      ]
     },
     "execution_count": 15,
     "metadata": {},
     "output_type": "execute_result"
    }
   ],
   "source": [
    "# Plot title\n",
    "# percentage of figure\n",
    "plt.figtext(0.33,0.32, 'Vehicle Crashes\\nIn Snowy Conditions', fontsize=fs+3, weight='bold', ha='center', va='bottom')"
   ]
  },
  {
   "cell_type": "code",
   "execution_count": 16,
   "metadata": {
    "collapsed": false
   },
   "outputs": [
    {
     "name": "stderr",
     "output_type": "stream",
     "text": [
      "/Users/maggieorton/anaconda/lib/python3.5/site-packages/matplotlib/tight_layout.py:222: UserWarning: tight_layout : falling back to Agg renderer\n",
      "  warnings.warn(\"tight_layout : falling back to Agg renderer\")\n"
     ]
    }
   ],
   "source": [
    "# Format figure and save\n",
    "plt.axis('off') #hides the axes from showing on the graph \n",
    "plt.tight_layout() #minimizes the spacing around the outside of the plot\n",
    "# can be saved in pixel format (jpg, png) or vector (svg)\n",
    "fig.savefig(\"mi_choropleth.png\", facecolor=fig.get_facecolor(), bbox_inches='tight')"
   ]
  },
  {
   "cell_type": "markdown",
   "metadata": {},
   "source": [
    "# Dot Map"
   ]
  },
  {
   "cell_type": "markdown",
   "metadata": {},
   "source": [
    "### Creating new map to add dots to"
   ]
  },
  {
   "cell_type": "code",
   "execution_count": 45,
   "metadata": {
    "collapsed": false
   },
   "outputs": [],
   "source": [
    "plt.gcf().clear()\n",
    "fig2 = plt.figure(2, figsize=(inches,inches), frameon=True)\n",
    "ax2 = plt.gca()\n",
    "# add blue for the great lakes (and land)\n",
    "fig2.patch.set_facecolor('#9bbff4')"
   ]
  },
  {
   "cell_type": "code",
   "execution_count": 46,
   "metadata": {
    "collapsed": true
   },
   "outputs": [],
   "source": [
    "# Make a polygon collection and plot it\n",
    "coll = PolyCollection(mi, facecolors='#edf8e9', edgecolors='white')\n",
    "ax2.add_collection(coll)\n",
    "# this line is necessary for collection to prevent crashing\n",
    "ax2.autoscale_view()"
   ]
  },
  {
   "cell_type": "code",
   "execution_count": 47,
   "metadata": {
    "collapsed": false
   },
   "outputs": [
    {
     "data": {
      "text/plain": [
       "<matplotlib.text.Text at 0x11752ee80>"
      ]
     },
     "execution_count": 47,
     "metadata": {},
     "output_type": "execute_result"
    }
   ],
   "source": [
    "# Plot title\n",
    "plt.figtext(0.5,0.9, 'Snowmobile Crashes', fontsize=fs+20, weight='bold', ha='center', va='bottom')"
   ]
  },
  {
   "cell_type": "markdown",
   "metadata": {},
   "source": [
    "### Reading in snowmobile crash data"
   ]
  },
  {
   "cell_type": "code",
   "execution_count": 48,
   "metadata": {
    "collapsed": false
   },
   "outputs": [
    {
     "data": {
      "text/html": [
       "<div>\n",
       "<table border=\"1\" class=\"dataframe\">\n",
       "  <thead>\n",
       "    <tr style=\"text-align: right;\">\n",
       "      <th></th>\n",
       "      <th>Crash Longitude</th>\n",
       "      <th>Crash Latitude</th>\n",
       "    </tr>\n",
       "  </thead>\n",
       "  <tbody>\n",
       "    <tr>\n",
       "      <th>0</th>\n",
       "      <td>-85.800058</td>\n",
       "      <td>46.180844</td>\n",
       "    </tr>\n",
       "    <tr>\n",
       "      <th>1</th>\n",
       "      <td>-84.789822</td>\n",
       "      <td>45.440444</td>\n",
       "    </tr>\n",
       "    <tr>\n",
       "      <th>2</th>\n",
       "      <td>-86.740536</td>\n",
       "      <td>46.321993</td>\n",
       "    </tr>\n",
       "  </tbody>\n",
       "</table>\n",
       "</div>"
      ],
      "text/plain": [
       "   Crash Longitude  Crash Latitude\n",
       "0       -85.800058       46.180844\n",
       "1       -84.789822       45.440444\n",
       "2       -86.740536       46.321993"
      ]
     },
     "execution_count": 48,
     "metadata": {},
     "output_type": "execute_result"
    }
   ],
   "source": [
    "snowmobiles = pd.read_table(\"snowmobile_crashes.txt\", sep = \"\\t\", usecols = [\"Crash Longitude\", \"Crash Latitude\"])\n",
    "snowmobiles[:3]"
   ]
  },
  {
   "cell_type": "markdown",
   "metadata": {},
   "source": [
    "### Plotting circles\n",
    "more information on different marker styles available <a href=\"https://matplotlib.org/api/markers_api.html#module-matplotlib.markers\">here</a>"
   ]
  },
  {
   "cell_type": "code",
   "execution_count": 49,
   "metadata": {
    "collapsed": false
   },
   "outputs": [],
   "source": [
    "ax2.scatter(snowmobiles['Crash Longitude'], snowmobiles['Crash Latitude'], c = 'maroon', alpha = .6, marker = 'o')\n",
    "for i, [lat, lon] in enumerate(zip(snowmobiles['Crash Latitude'], snowmobiles['Crash Longitude'])):\n",
    "    plt.text(lon, lat, i)"
   ]
  },
  {
   "cell_type": "code",
   "execution_count": 50,
   "metadata": {
    "collapsed": false
   },
   "outputs": [],
   "source": [
    "# Format figure and save\n",
    "plt.axis('off')\n",
    "plt.tight_layout()\n",
    "fig2.savefig(\"snowmobile_crashes.png\", facecolor=fig2.get_facecolor(), bbox_inches='tight')"
   ]
  },
  {
   "cell_type": "markdown",
   "metadata": {},
   "source": [
    "### Practice\n",
    "See if you can change the scatterplot marker to a different shape"
   ]
  },
  {
   "cell_type": "markdown",
   "metadata": {},
   "source": [
    "# Proportional Dot Map"
   ]
  },
  {
   "cell_type": "markdown",
   "metadata": {},
   "source": [
    "### Creating new map to add dots to"
   ]
  },
  {
   "cell_type": "code",
   "execution_count": 23,
   "metadata": {
    "collapsed": false
   },
   "outputs": [],
   "source": [
    "plt.gcf().clear()\n",
    "fig3 = plt.figure(2, figsize=(inches,inches), frameon=True)\n",
    "ax3 = plt.gca()\n",
    "# add blue for the great lakes (and land)\n",
    "fig3.patch.set_facecolor('#9bbff4')"
   ]
  },
  {
   "cell_type": "code",
   "execution_count": 24,
   "metadata": {
    "collapsed": false
   },
   "outputs": [],
   "source": [
    "# Make a polygon collection and plot it\n",
    "coll = PolyCollection(mi, facecolors='#edf8e9', edgecolors='white')\n",
    "ax3.add_collection(coll)\n",
    "# this line is necessary for collection to prevent crashing\n",
    "ax3.autoscale_view()\n",
    "plt.axes().set_aspect('equal', 'datalim')"
   ]
  },
  {
   "cell_type": "code",
   "execution_count": 25,
   "metadata": {
    "collapsed": false
   },
   "outputs": [
    {
     "data": {
      "text/plain": [
       "<matplotlib.text.Text at 0x116844240>"
      ]
     },
     "execution_count": 25,
     "metadata": {},
     "output_type": "execute_result"
    }
   ],
   "source": [
    "# Plot title\n",
    "plt.figtext(0.5, .9, 'Top 20 Deer Crashes', fontsize=fs+20, weight='bold', ha='center', va='bottom')"
   ]
  },
  {
   "cell_type": "markdown",
   "metadata": {},
   "source": [
    "### Reading in deer crash data"
   ]
  },
  {
   "cell_type": "code",
   "execution_count": 26,
   "metadata": {
    "collapsed": false
   },
   "outputs": [
    {
     "data": {
      "text/html": [
       "<div>\n",
       "<table border=\"1\" class=\"dataframe\">\n",
       "  <thead>\n",
       "    <tr style=\"text-align: right;\">\n",
       "      <th></th>\n",
       "      <th>city</th>\n",
       "      <th>Total</th>\n",
       "      <th>K</th>\n",
       "      <th>ABC</th>\n",
       "      <th>PDO</th>\n",
       "      <th>Lat</th>\n",
       "      <th>Lon</th>\n",
       "    </tr>\n",
       "  </thead>\n",
       "  <tbody>\n",
       "    <tr>\n",
       "      <th>19</th>\n",
       "      <td>Burton</td>\n",
       "      <td>40</td>\n",
       "      <td>0</td>\n",
       "      <td>1</td>\n",
       "      <td>39</td>\n",
       "      <td>42.999472</td>\n",
       "      <td>-83.616342</td>\n",
       "    </tr>\n",
       "    <tr>\n",
       "      <th>18</th>\n",
       "      <td>Norton Shores</td>\n",
       "      <td>41</td>\n",
       "      <td>0</td>\n",
       "      <td>2</td>\n",
       "      <td>39</td>\n",
       "      <td>43.168904</td>\n",
       "      <td>-86.263946</td>\n",
       "    </tr>\n",
       "    <tr>\n",
       "      <th>17</th>\n",
       "      <td>Sterling Heights</td>\n",
       "      <td>44</td>\n",
       "      <td>0</td>\n",
       "      <td>3</td>\n",
       "      <td>41</td>\n",
       "      <td>42.580312</td>\n",
       "      <td>-83.030203</td>\n",
       "    </tr>\n",
       "    <tr>\n",
       "      <th>16</th>\n",
       "      <td>Southfield</td>\n",
       "      <td>44</td>\n",
       "      <td>0</td>\n",
       "      <td>6</td>\n",
       "      <td>38</td>\n",
       "      <td>42.473369</td>\n",
       "      <td>-83.221873</td>\n",
       "    </tr>\n",
       "    <tr>\n",
       "      <th>15</th>\n",
       "      <td>Wyoming</td>\n",
       "      <td>46</td>\n",
       "      <td>0</td>\n",
       "      <td>0</td>\n",
       "      <td>46</td>\n",
       "      <td>42.913360</td>\n",
       "      <td>-85.705309</td>\n",
       "    </tr>\n",
       "    <tr>\n",
       "      <th>14</th>\n",
       "      <td>East Lansing</td>\n",
       "      <td>55</td>\n",
       "      <td>0</td>\n",
       "      <td>3</td>\n",
       "      <td>52</td>\n",
       "      <td>42.736979</td>\n",
       "      <td>-84.483865</td>\n",
       "    </tr>\n",
       "    <tr>\n",
       "      <th>...</th>\n",
       "      <td>...</td>\n",
       "      <td>...</td>\n",
       "      <td>...</td>\n",
       "      <td>...</td>\n",
       "      <td>...</td>\n",
       "      <td>...</td>\n",
       "      <td>...</td>\n",
       "    </tr>\n",
       "    <tr>\n",
       "      <th>5</th>\n",
       "      <td>Ann Arbor</td>\n",
       "      <td>90</td>\n",
       "      <td>0</td>\n",
       "      <td>4</td>\n",
       "      <td>86</td>\n",
       "      <td>42.280826</td>\n",
       "      <td>-83.743038</td>\n",
       "    </tr>\n",
       "    <tr>\n",
       "      <th>4</th>\n",
       "      <td>Farmington Hills</td>\n",
       "      <td>95</td>\n",
       "      <td>0</td>\n",
       "      <td>4</td>\n",
       "      <td>91</td>\n",
       "      <td>42.498994</td>\n",
       "      <td>-83.367717</td>\n",
       "    </tr>\n",
       "    <tr>\n",
       "      <th>3</th>\n",
       "      <td>Battle Creek</td>\n",
       "      <td>116</td>\n",
       "      <td>0</td>\n",
       "      <td>6</td>\n",
       "      <td>110</td>\n",
       "      <td>42.321152</td>\n",
       "      <td>-85.179714</td>\n",
       "    </tr>\n",
       "    <tr>\n",
       "      <th>2</th>\n",
       "      <td>Midland</td>\n",
       "      <td>137</td>\n",
       "      <td>0</td>\n",
       "      <td>1</td>\n",
       "      <td>136</td>\n",
       "      <td>43.615583</td>\n",
       "      <td>-84.247212</td>\n",
       "    </tr>\n",
       "    <tr>\n",
       "      <th>1</th>\n",
       "      <td>Rochester Hills</td>\n",
       "      <td>150</td>\n",
       "      <td>0</td>\n",
       "      <td>2</td>\n",
       "      <td>148</td>\n",
       "      <td>42.658366</td>\n",
       "      <td>-83.149932</td>\n",
       "    </tr>\n",
       "    <tr>\n",
       "      <th>0</th>\n",
       "      <td>Portage</td>\n",
       "      <td>191</td>\n",
       "      <td>0</td>\n",
       "      <td>5</td>\n",
       "      <td>186</td>\n",
       "      <td>42.201154</td>\n",
       "      <td>-85.580002</td>\n",
       "    </tr>\n",
       "  </tbody>\n",
       "</table>\n",
       "<p>20 rows × 7 columns</p>\n",
       "</div>"
      ],
      "text/plain": [
       "                city  Total  K  ABC  PDO        Lat        Lon\n",
       "19            Burton     40  0    1   39  42.999472 -83.616342\n",
       "18     Norton Shores     41  0    2   39  43.168904 -86.263946\n",
       "17  Sterling Heights     44  0    3   41  42.580312 -83.030203\n",
       "16        Southfield     44  0    6   38  42.473369 -83.221873\n",
       "15           Wyoming     46  0    0   46  42.913360 -85.705309\n",
       "14      East Lansing     55  0    3   52  42.736979 -84.483865\n",
       "..               ...    ... ..  ...  ...        ...        ...\n",
       "5          Ann Arbor     90  0    4   86  42.280826 -83.743038\n",
       "4   Farmington Hills     95  0    4   91  42.498994 -83.367717\n",
       "3       Battle Creek    116  0    6  110  42.321152 -85.179714\n",
       "2            Midland    137  0    1  136  43.615583 -84.247212\n",
       "1    Rochester Hills    150  0    2  148  42.658366 -83.149932\n",
       "0            Portage    191  0    5  186  42.201154 -85.580002\n",
       "\n",
       "[20 rows x 7 columns]"
      ]
     },
     "execution_count": 26,
     "metadata": {},
     "output_type": "execute_result"
    }
   ],
   "source": [
    "deer = pd.read_csv(\"deer_in_the_city.txt\").sort_values(by = [\"Total\"])\n",
    "# take top 20\n",
    "deer = deer[-20:]\n",
    "deer"
   ]
  },
  {
   "cell_type": "code",
   "execution_count": 27,
   "metadata": {
    "collapsed": false
   },
   "outputs": [],
   "source": [
    "deer[\"Total\"] = pd.to_numeric(deer[\"Total\"])"
   ]
  },
  {
   "cell_type": "markdown",
   "metadata": {},
   "source": [
    "### Plotting circles"
   ]
  },
  {
   "cell_type": "code",
   "execution_count": 28,
   "metadata": {
    "collapsed": false
   },
   "outputs": [],
   "source": [
    "for lat, lon, num in zip(deer['Lat'], deer['Lon'], deer['Total']):\n",
    "    circ = plt.Circle((lon, lat), radius = num / 500, color = 'maroon', alpha = .3, fill = True)\n",
    "    ax3.add_artist(circ)"
   ]
  },
  {
   "cell_type": "code",
   "execution_count": 29,
   "metadata": {
    "collapsed": false
   },
   "outputs": [],
   "source": [
    "# Format figure and save\n",
    "plt.axis('off')\n",
    "plt.tight_layout()\n",
    "fig3.savefig(\"top_20_crashes.png\", facecolor=fig2.get_facecolor(), bbox_inches='tight')"
   ]
  },
  {
   "cell_type": "markdown",
   "metadata": {},
   "source": [
    "# Isopleth"
   ]
  },
  {
   "cell_type": "code",
   "execution_count": 52,
   "metadata": {
    "collapsed": false
   },
   "outputs": [],
   "source": [
    "plt.gcf().clear()\n",
    "\n",
    "# read in temperature\n",
    "temps = pd.read_csv(\"mi_temperature.txt\")\n",
    "lats = temps[\"latitude\"].drop_duplicates().sort_values()\n",
    "lons = temps[\"longitude\"].drop_duplicates().sort_values()\n",
    "Y, X = np.meshgrid(lats, lons) # creates numpy arrays of all X/Y combos\n",
    "temps = temps.sort_values(by = [\"longitude\", \"latitude\"])\n",
    "\n",
    "# create dataframe of all lat/lon combos to merge temps with\n",
    "latlons = pd.DataFrame(columns = [\"longitude\", \"latitude\"])\n",
    "latlons[\"longitude\"] = list(lons) * len(lats)\n",
    "latlons[\"latitude\"] = list(np.repeat(lats, len(lons)))\n",
    "latlons = latlons.sort_values(by = [\"longitude\", \"latitude\"])\n",
    "# merge temps with new dataframe so all possible lat/lon combos are present\n",
    "temps = pd.merge(temps, latlons, how = 'right', on = [\"latitude\", \"longitude\"], sort = True)\n",
    "temps = temps.fillna(np.nanmin(list(temps[\"maxTemp\"])) - 2) # fill non-land values with lowest temp - 2\n",
    "# create new Z array from sorted maxTemp column\n",
    "Z = temps.pivot(index = 'longitude', columns = 'latitude', values = 'maxTemp')\n",
    "\n",
    "# plot and save figure\n",
    "fig4 = plt.figure(figsize=(inches,inches), frameon=False)\n",
    "plt.axes().set_aspect('equal', 'datalim')\n",
    "CS = plt.contour(X, Y, Z, 20) # will use 20 isopleth cutoffs\n",
    "plt.clabel(CS, inline = 1, fontsize = 10)\n",
    "plt.axis('off')\n",
    "fig4.savefig(\"isopleth.png\")"
   ]
  },
  {
   "cell_type": "markdown",
   "metadata": {},
   "source": [
    "### Practice\n",
    "Try using the 'wind' column instead to make a different plot  \n",
    "\n",
    "Try changing the number of isopleth cutoffs  \n",
    "\n",
    "Try filling the blank areas with 0 instead of lowest - 2"
   ]
  },
  {
   "cell_type": "code",
   "execution_count": null,
   "metadata": {
    "collapsed": true
   },
   "outputs": [],
   "source": []
  }
 ],
 "metadata": {
  "anaconda-cloud": {},
  "kernelspec": {
   "display_name": "Python [Root]",
   "language": "python",
   "name": "Python [Root]"
  },
  "language_info": {
   "codemirror_mode": {
    "name": "ipython",
    "version": 3
   },
   "file_extension": ".py",
   "mimetype": "text/x-python",
   "name": "python",
   "nbconvert_exporter": "python",
   "pygments_lexer": "ipython3",
   "version": "3.5.2"
  }
 },
 "nbformat": 4,
 "nbformat_minor": 0
}
